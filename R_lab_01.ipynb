{
  "nbformat": 4,
  "nbformat_minor": 0,
  "metadata": {
    "colab": {
      "name": "R - lab_01",
      "provenance": [],
      "collapsed_sections": [],
      "authorship_tag": "ABX9TyP79lSbdo0gZPYnD1J9+RQb",
      "include_colab_link": true
    },
    "kernelspec": {
      "name": "ir",
      "display_name": "R"
    }
  },
  "cells": [
    {
      "cell_type": "markdown",
      "metadata": {
        "id": "view-in-github",
        "colab_type": "text"
      },
      "source": [
        "<a href=\"https://colab.research.google.com/github/benjaminsw/Time_Series/blob/main/R_lab_01.ipynb\" target=\"_parent\"><img src=\"https://colab.research.google.com/assets/colab-badge.svg\" alt=\"Open In Colab\"/></a>"
      ]
    },
    {
      "cell_type": "code",
      "metadata": {
        "id": "VTBzEeHpSANp"
      },
      "source": [
        "if (!require('gsheet')) install.packages('gsheet'); library('gsheet')"
      ],
      "execution_count": 2,
      "outputs": []
    },
    {
      "cell_type": "code",
      "metadata": {
        "id": "DGwuOpNygxOc",
        "colab": {
          "base_uri": "https://localhost:8080/",
          "height": 207
        },
        "outputId": "fbf4ca96-9bed-475e-bfbc-054a1fa3bc8b"
      },
      "source": [
        "url <- 'https://docs.google.com/spreadsheets/d/1aLag4ZQG1aUeXYFnZzCi0v9FNHs9WiAm5v0U4EHYdJg/edit?usp=sharing'\n",
        "data <- gsheet2tbl(url)\n",
        "head(data)"
      ],
      "execution_count": 3,
      "outputs": [
        {
          "output_type": "display_data",
          "data": {
            "text/plain": [
              "  Date     admissions_glasgow\n",
              "1 20060101 22                \n",
              "2 20060102 41                \n",
              "3 20060103 30                \n",
              "4 20060104 35                \n",
              "5 20060105 36                \n",
              "6 20060106 31                "
            ],
            "text/latex": "A tibble: 6 × 2\n\\begin{tabular}{ll}\n Date & admissions\\_glasgow\\\\\n <dbl> & <dbl>\\\\\n\\hline\n\t 20060101 & 22\\\\\n\t 20060102 & 41\\\\\n\t 20060103 & 30\\\\\n\t 20060104 & 35\\\\\n\t 20060105 & 36\\\\\n\t 20060106 & 31\\\\\n\\end{tabular}\n",
            "text/markdown": "\nA tibble: 6 × 2\n\n| Date &lt;dbl&gt; | admissions_glasgow &lt;dbl&gt; |\n|---|---|\n| 20060101 | 22 |\n| 20060102 | 41 |\n| 20060103 | 30 |\n| 20060104 | 35 |\n| 20060105 | 36 |\n| 20060106 | 31 |\n\n",
            "text/html": [
              "<table>\n",
              "<caption>A tibble: 6 × 2</caption>\n",
              "<thead>\n",
              "\t<tr><th scope=col>Date</th><th scope=col>admissions_glasgow</th></tr>\n",
              "\t<tr><th scope=col>&lt;dbl&gt;</th><th scope=col>&lt;dbl&gt;</th></tr>\n",
              "</thead>\n",
              "<tbody>\n",
              "\t<tr><td>20060101</td><td>22</td></tr>\n",
              "\t<tr><td>20060102</td><td>41</td></tr>\n",
              "\t<tr><td>20060103</td><td>30</td></tr>\n",
              "\t<tr><td>20060104</td><td>35</td></tr>\n",
              "\t<tr><td>20060105</td><td>36</td></tr>\n",
              "\t<tr><td>20060106</td><td>31</td></tr>\n",
              "</tbody>\n",
              "</table>\n"
            ]
          },
          "metadata": {
            "tags": []
          }
        }
      ]
    },
    {
      "cell_type": "code",
      "metadata": {
        "id": "ZGgSCkUYR5R2"
      },
      "source": [
        ""
      ],
      "execution_count": 5,
      "outputs": []
    },
    {
      "cell_type": "code",
      "metadata": {
        "id": "rfUL1nNXSFTb"
      },
      "source": [
        ""
      ],
      "execution_count": null,
      "outputs": []
    }
  ]
}